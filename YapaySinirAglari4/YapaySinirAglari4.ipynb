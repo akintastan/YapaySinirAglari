{
  "nbformat": 4,
  "nbformat_minor": 0,
  "metadata": {
    "colab": {
      "provenance": [],
      "toc_visible": true
    },
    "kernelspec": {
      "name": "python3",
      "display_name": "Python 3"
    },
    "language_info": {
      "name": "python"
    }
  },
  "cells": [
    {
      "cell_type": "code",
      "execution_count": 3,
      "metadata": {
        "colab": {
          "base_uri": "https://localhost:8080/"
        },
        "id": "Zq-VSvPl3OW3",
        "outputId": "5603a9be-7858-43ea-9092-dc2f5948688a"
      },
      "outputs": [
        {
          "output_type": "stream",
          "name": "stdout",
          "text": [
            "tensor([[0.4892],\n",
            "        [0.5566]], grad_fn=<MulBackward0>)\n"
          ]
        }
      ],
      "source": [
        "import torch\n",
        "\n",
        "# Set seed value to 1\n",
        "torch.manual_seed(1)\n",
        "\n",
        "# Define activation functions\n",
        "def tanh(x):\n",
        "    numerator = (torch.exp(x) - torch.exp(-x))\n",
        "    denominator = (torch.exp(x) + torch.exp(-x))\n",
        "    return numerator / denominator\n",
        "\n",
        "def sigmoid(x):\n",
        "    return 1 / (1 + torch.exp(-x))\n",
        "\n",
        "# Define the neural network\n",
        "class NeuralNet(torch.nn.Module):\n",
        "    def __init__(self):\n",
        "        super(NeuralNet, self).__init__()\n",
        "        self.fc1 = torch.nn.Linear(in_features=3, out_features=50)\n",
        "        self.fc2 = torch.nn.Linear(in_features=50, out_features=1)\n",
        "\n",
        "    def forward(self, x):\n",
        "        x = tanh(self.fc1(x))\n",
        "        x = sigmoid(self.fc2(x))\n",
        "        return x\n",
        "\n",
        "# Create an instance of the neural network\n",
        "model = NeuralNet()\n",
        "\n",
        "# Feed the matrix x to the model\n",
        "x = torch.tensor([[1, 2, 3], [4, 5, 6]], dtype=torch.float32)\n",
        "output = model(x)\n",
        "\n",
        "# Print the output\n",
        "print(output)"
      ]
    }
  ]
}